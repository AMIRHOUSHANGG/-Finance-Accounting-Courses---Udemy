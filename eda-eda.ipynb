{
 "cells": [
  {
   "cell_type": "code",
   "execution_count": 1,
   "id": "exempt-working",
   "metadata": {
    "_cell_guid": "b1076dfc-b9ad-4769-8c92-a6c4dae69d19",
    "_uuid": "8f2839f25d086af736a60e9eeb907d3b93b6e0e5",
    "execution": {
     "iopub.execute_input": "2023-05-13T13:25:18.769190Z",
     "iopub.status.busy": "2023-05-13T13:25:18.767262Z",
     "iopub.status.idle": "2023-05-13T13:25:18.788890Z",
     "shell.execute_reply": "2023-05-13T13:25:18.787778Z",
     "shell.execute_reply.started": "2023-05-13T13:06:17.945081Z"
    },
    "papermill": {
     "duration": 0.0704,
     "end_time": "2023-05-13T13:25:18.789098",
     "exception": false,
     "start_time": "2023-05-13T13:25:18.718698",
     "status": "completed"
    },
    "tags": []
   },
   "outputs": [
    {
     "name": "stdout",
     "output_type": "stream",
     "text": [
      "/kaggle/input/finance-accounting-courses-udemy-13k-course/udemy_output_All_Finance__Accounting_p1_p626.csv\n"
     ]
    }
   ],
   "source": [
    "# This Python 3 environment comes with many helpful analytics libraries installed\n",
    "# It is defined by the kaggle/python Docker image: https://github.com/kaggle/docker-python\n",
    "# For example, here's several helpful packages to load\n",
    "\n",
    "import numpy as np # linear algebra\n",
    "import pandas as pd # data processing, CSV file I/O (e.g. pd.read_csv)\n",
    "\n",
    "# Input data files are available in the read-only \"../input/\" directory\n",
    "# For example, running this (by clicking run or pressing Shift+Enter) will list all files under the input directory\n",
    "\n",
    "import os\n",
    "for dirname, _, filenames in os.walk('/kaggle/input'):\n",
    "    for filename in filenames:\n",
    "        print(os.path.join(dirname, filename))\n",
    "\n",
    "# You can write up to 20GB to the current directory (/kaggle/working/) that gets preserved as output when you create a version using \"Save & Run All\" \n",
    "# You can also write temporary files to /kaggle/temp/, but they won't be saved outside of the current session"
   ]
  },
  {
   "cell_type": "code",
   "execution_count": 2,
   "id": "interested-elements",
   "metadata": {
    "execution": {
     "iopub.execute_input": "2023-05-13T13:25:18.883599Z",
     "iopub.status.busy": "2023-05-13T13:25:18.882741Z",
     "iopub.status.idle": "2023-05-13T13:25:19.764130Z",
     "shell.execute_reply": "2023-05-13T13:25:19.763446Z",
     "shell.execute_reply.started": "2023-05-13T13:06:17.955086Z"
    },
    "papermill": {
     "duration": 0.929851,
     "end_time": "2023-05-13T13:25:19.764305",
     "exception": false,
     "start_time": "2023-05-13T13:25:18.834454",
     "status": "completed"
    },
    "tags": []
   },
   "outputs": [],
   "source": [
    "import numpy as np\n",
    "import pandas as pd\n",
    "import matplotlib as mpl\n",
    "import matplotlib.pyplot as plt\n",
    "import seaborn as sns"
   ]
  },
  {
   "cell_type": "code",
   "execution_count": 3,
   "id": "saved-flood",
   "metadata": {
    "execution": {
     "iopub.execute_input": "2023-05-13T13:25:19.854492Z",
     "iopub.status.busy": "2023-05-13T13:25:19.853683Z",
     "iopub.status.idle": "2023-05-13T13:25:20.073641Z",
     "shell.execute_reply": "2023-05-13T13:25:20.074230Z",
     "shell.execute_reply.started": "2023-05-13T13:06:17.971650Z"
    },
    "papermill": {
     "duration": 0.267938,
     "end_time": "2023-05-13T13:25:20.074424",
     "exception": false,
     "start_time": "2023-05-13T13:25:19.806486",
     "status": "completed"
    },
    "tags": []
   },
   "outputs": [
    {
     "data": {
      "text/html": [
       "<div>\n",
       "<style scoped>\n",
       "    .dataframe tbody tr th:only-of-type {\n",
       "        vertical-align: middle;\n",
       "    }\n",
       "\n",
       "    .dataframe tbody tr th {\n",
       "        vertical-align: top;\n",
       "    }\n",
       "\n",
       "    .dataframe thead th {\n",
       "        text-align: right;\n",
       "    }\n",
       "</style>\n",
       "<table border=\"1\" class=\"dataframe\">\n",
       "  <thead>\n",
       "    <tr style=\"text-align: right;\">\n",
       "      <th></th>\n",
       "      <th>id</th>\n",
       "      <th>title</th>\n",
       "      <th>url</th>\n",
       "      <th>is_paid</th>\n",
       "      <th>num_subscribers</th>\n",
       "      <th>avg_rating</th>\n",
       "      <th>avg_rating_recent</th>\n",
       "      <th>rating</th>\n",
       "      <th>num_reviews</th>\n",
       "      <th>is_wishlisted</th>\n",
       "      <th>num_published_lectures</th>\n",
       "      <th>num_published_practice_tests</th>\n",
       "      <th>created</th>\n",
       "      <th>published_time</th>\n",
       "      <th>discount_price__amount</th>\n",
       "      <th>discount_price__currency</th>\n",
       "      <th>discount_price__price_string</th>\n",
       "      <th>price_detail__amount</th>\n",
       "      <th>price_detail__currency</th>\n",
       "      <th>price_detail__price_string</th>\n",
       "    </tr>\n",
       "  </thead>\n",
       "  <tbody>\n",
       "    <tr>\n",
       "      <th>0</th>\n",
       "      <td>762616</td>\n",
       "      <td>The Complete SQL Bootcamp 2020: Go from Zero t...</td>\n",
       "      <td>/course/the-complete-sql-bootcamp/</td>\n",
       "      <td>True</td>\n",
       "      <td>295509</td>\n",
       "      <td>4.66019</td>\n",
       "      <td>4.67874</td>\n",
       "      <td>4.67874</td>\n",
       "      <td>78006</td>\n",
       "      <td>False</td>\n",
       "      <td>84</td>\n",
       "      <td>0</td>\n",
       "      <td>2016-02-14T22:57:48Z</td>\n",
       "      <td>2016-04-06T05:16:11Z</td>\n",
       "      <td>455.0</td>\n",
       "      <td>INR</td>\n",
       "      <td>₹455</td>\n",
       "      <td>8640.0</td>\n",
       "      <td>INR</td>\n",
       "      <td>₹8,640</td>\n",
       "    </tr>\n",
       "    <tr>\n",
       "      <th>1</th>\n",
       "      <td>937678</td>\n",
       "      <td>Tableau 2020 A-Z: Hands-On Tableau Training fo...</td>\n",
       "      <td>/course/tableau10/</td>\n",
       "      <td>True</td>\n",
       "      <td>209070</td>\n",
       "      <td>4.58956</td>\n",
       "      <td>4.60015</td>\n",
       "      <td>4.60015</td>\n",
       "      <td>54581</td>\n",
       "      <td>False</td>\n",
       "      <td>78</td>\n",
       "      <td>0</td>\n",
       "      <td>2016-08-22T12:10:18Z</td>\n",
       "      <td>2016-08-23T16:59:49Z</td>\n",
       "      <td>455.0</td>\n",
       "      <td>INR</td>\n",
       "      <td>₹455</td>\n",
       "      <td>8640.0</td>\n",
       "      <td>INR</td>\n",
       "      <td>₹8,640</td>\n",
       "    </tr>\n",
       "    <tr>\n",
       "      <th>2</th>\n",
       "      <td>1361790</td>\n",
       "      <td>PMP Exam Prep Seminar -  PMBOK Guide 6</td>\n",
       "      <td>/course/pmp-pmbok6-35-pdus/</td>\n",
       "      <td>True</td>\n",
       "      <td>155282</td>\n",
       "      <td>4.59491</td>\n",
       "      <td>4.59326</td>\n",
       "      <td>4.59326</td>\n",
       "      <td>52653</td>\n",
       "      <td>False</td>\n",
       "      <td>292</td>\n",
       "      <td>2</td>\n",
       "      <td>2017-09-26T16:32:48Z</td>\n",
       "      <td>2017-11-14T23:58:14Z</td>\n",
       "      <td>455.0</td>\n",
       "      <td>INR</td>\n",
       "      <td>₹455</td>\n",
       "      <td>8640.0</td>\n",
       "      <td>INR</td>\n",
       "      <td>₹8,640</td>\n",
       "    </tr>\n",
       "    <tr>\n",
       "      <th>3</th>\n",
       "      <td>648826</td>\n",
       "      <td>The Complete Financial Analyst Course 2020</td>\n",
       "      <td>/course/the-complete-financial-analyst-course/</td>\n",
       "      <td>True</td>\n",
       "      <td>245860</td>\n",
       "      <td>4.54407</td>\n",
       "      <td>4.53772</td>\n",
       "      <td>4.53772</td>\n",
       "      <td>46447</td>\n",
       "      <td>False</td>\n",
       "      <td>338</td>\n",
       "      <td>0</td>\n",
       "      <td>2015-10-23T13:34:35Z</td>\n",
       "      <td>2016-01-21T01:38:48Z</td>\n",
       "      <td>455.0</td>\n",
       "      <td>INR</td>\n",
       "      <td>₹455</td>\n",
       "      <td>8640.0</td>\n",
       "      <td>INR</td>\n",
       "      <td>₹8,640</td>\n",
       "    </tr>\n",
       "    <tr>\n",
       "      <th>4</th>\n",
       "      <td>637930</td>\n",
       "      <td>An Entire MBA in 1 Course:Award Winning Busine...</td>\n",
       "      <td>/course/an-entire-mba-in-1-courseaward-winning...</td>\n",
       "      <td>True</td>\n",
       "      <td>374836</td>\n",
       "      <td>4.47080</td>\n",
       "      <td>4.47173</td>\n",
       "      <td>4.47173</td>\n",
       "      <td>41630</td>\n",
       "      <td>False</td>\n",
       "      <td>83</td>\n",
       "      <td>0</td>\n",
       "      <td>2015-10-12T06:39:46Z</td>\n",
       "      <td>2016-01-11T21:39:33Z</td>\n",
       "      <td>455.0</td>\n",
       "      <td>INR</td>\n",
       "      <td>₹455</td>\n",
       "      <td>8640.0</td>\n",
       "      <td>INR</td>\n",
       "      <td>₹8,640</td>\n",
       "    </tr>\n",
       "  </tbody>\n",
       "</table>\n",
       "</div>"
      ],
      "text/plain": [
       "        id                                              title  \\\n",
       "0   762616  The Complete SQL Bootcamp 2020: Go from Zero t...   \n",
       "1   937678  Tableau 2020 A-Z: Hands-On Tableau Training fo...   \n",
       "2  1361790             PMP Exam Prep Seminar -  PMBOK Guide 6   \n",
       "3   648826         The Complete Financial Analyst Course 2020   \n",
       "4   637930  An Entire MBA in 1 Course:Award Winning Busine...   \n",
       "\n",
       "                                                 url  is_paid  \\\n",
       "0                 /course/the-complete-sql-bootcamp/     True   \n",
       "1                                 /course/tableau10/     True   \n",
       "2                        /course/pmp-pmbok6-35-pdus/     True   \n",
       "3     /course/the-complete-financial-analyst-course/     True   \n",
       "4  /course/an-entire-mba-in-1-courseaward-winning...     True   \n",
       "\n",
       "   num_subscribers  avg_rating  avg_rating_recent   rating  num_reviews  \\\n",
       "0           295509     4.66019            4.67874  4.67874        78006   \n",
       "1           209070     4.58956            4.60015  4.60015        54581   \n",
       "2           155282     4.59491            4.59326  4.59326        52653   \n",
       "3           245860     4.54407            4.53772  4.53772        46447   \n",
       "4           374836     4.47080            4.47173  4.47173        41630   \n",
       "\n",
       "   is_wishlisted  num_published_lectures  num_published_practice_tests  \\\n",
       "0          False                      84                             0   \n",
       "1          False                      78                             0   \n",
       "2          False                     292                             2   \n",
       "3          False                     338                             0   \n",
       "4          False                      83                             0   \n",
       "\n",
       "                created        published_time  discount_price__amount  \\\n",
       "0  2016-02-14T22:57:48Z  2016-04-06T05:16:11Z                   455.0   \n",
       "1  2016-08-22T12:10:18Z  2016-08-23T16:59:49Z                   455.0   \n",
       "2  2017-09-26T16:32:48Z  2017-11-14T23:58:14Z                   455.0   \n",
       "3  2015-10-23T13:34:35Z  2016-01-21T01:38:48Z                   455.0   \n",
       "4  2015-10-12T06:39:46Z  2016-01-11T21:39:33Z                   455.0   \n",
       "\n",
       "  discount_price__currency discount_price__price_string  price_detail__amount  \\\n",
       "0                      INR                         ₹455                8640.0   \n",
       "1                      INR                         ₹455                8640.0   \n",
       "2                      INR                         ₹455                8640.0   \n",
       "3                      INR                         ₹455                8640.0   \n",
       "4                      INR                         ₹455                8640.0   \n",
       "\n",
       "  price_detail__currency price_detail__price_string  \n",
       "0                    INR                     ₹8,640  \n",
       "1                    INR                     ₹8,640  \n",
       "2                    INR                     ₹8,640  \n",
       "3                    INR                     ₹8,640  \n",
       "4                    INR                     ₹8,640  "
      ]
     },
     "execution_count": 3,
     "metadata": {},
     "output_type": "execute_result"
    }
   ],
   "source": [
    "df=pd.read_csv('/kaggle/input/finance-accounting-courses-udemy-13k-course/udemy_output_All_Finance__Accounting_p1_p626.csv')\n",
    "df.head(5)"
   ]
  },
  {
   "cell_type": "code",
   "execution_count": 4,
   "id": "pretty-final",
   "metadata": {
    "execution": {
     "iopub.execute_input": "2023-05-13T13:25:20.172627Z",
     "iopub.status.busy": "2023-05-13T13:25:20.171879Z",
     "iopub.status.idle": "2023-05-13T13:25:20.178813Z",
     "shell.execute_reply": "2023-05-13T13:25:20.179381Z",
     "shell.execute_reply.started": "2023-05-13T13:06:18.064798Z"
    },
    "papermill": {
     "duration": 0.060799,
     "end_time": "2023-05-13T13:25:20.179591",
     "exception": false,
     "start_time": "2023-05-13T13:25:20.118792",
     "status": "completed"
    },
    "tags": []
   },
   "outputs": [],
   "source": [
    "df.drop(['url', 'discount_price__currency', 'discount_price__price_string', 'price_detail__currency', 'price_detail__price_string', 'created'], axis=1, inplace=True)"
   ]
  },
  {
   "cell_type": "code",
   "execution_count": 5,
   "id": "saved-huntington",
   "metadata": {
    "execution": {
     "iopub.execute_input": "2023-05-13T13:25:20.274471Z",
     "iopub.status.busy": "2023-05-13T13:25:20.273707Z",
     "iopub.status.idle": "2023-05-13T13:25:20.320269Z",
     "shell.execute_reply": "2023-05-13T13:25:20.319403Z",
     "shell.execute_reply.started": "2023-05-13T13:06:18.072467Z"
    },
    "papermill": {
     "duration": 0.097639,
     "end_time": "2023-05-13T13:25:20.320437",
     "exception": false,
     "start_time": "2023-05-13T13:25:20.222798",
     "status": "completed"
    },
    "tags": []
   },
   "outputs": [],
   "source": [
    "df.drop_duplicates()\n",
    "df['published_time'] = pd.to_datetime(df['published_time'])"
   ]
  },
  {
   "cell_type": "code",
   "execution_count": 6,
   "id": "sunrise-highland",
   "metadata": {
    "execution": {
     "iopub.execute_input": "2023-05-13T13:25:20.421693Z",
     "iopub.status.busy": "2023-05-13T13:25:20.420930Z",
     "iopub.status.idle": "2023-05-13T13:25:20.435983Z",
     "shell.execute_reply": "2023-05-13T13:25:20.436602Z",
     "shell.execute_reply.started": "2023-05-13T13:06:18.110384Z"
    },
    "papermill": {
     "duration": 0.071821,
     "end_time": "2023-05-13T13:25:20.436797",
     "exception": false,
     "start_time": "2023-05-13T13:25:20.364976",
     "status": "completed"
    },
    "tags": []
   },
   "outputs": [
    {
     "data": {
      "text/html": [
       "<div>\n",
       "<style scoped>\n",
       "    .dataframe tbody tr th:only-of-type {\n",
       "        vertical-align: middle;\n",
       "    }\n",
       "\n",
       "    .dataframe tbody tr th {\n",
       "        vertical-align: top;\n",
       "    }\n",
       "\n",
       "    .dataframe thead th {\n",
       "        text-align: right;\n",
       "    }\n",
       "</style>\n",
       "<table border=\"1\" class=\"dataframe\">\n",
       "  <thead>\n",
       "    <tr style=\"text-align: right;\">\n",
       "      <th></th>\n",
       "      <th>id</th>\n",
       "      <th>title</th>\n",
       "      <th>is_paid</th>\n",
       "      <th>num_subscribers</th>\n",
       "      <th>avg_rating</th>\n",
       "      <th>avg_rating_recent</th>\n",
       "      <th>rating</th>\n",
       "      <th>num_reviews</th>\n",
       "      <th>is_wishlisted</th>\n",
       "      <th>num_published_lectures</th>\n",
       "      <th>num_published_practice_tests</th>\n",
       "      <th>published_time</th>\n",
       "      <th>discount_price__amount</th>\n",
       "      <th>price_detail__amount</th>\n",
       "    </tr>\n",
       "  </thead>\n",
       "  <tbody>\n",
       "    <tr>\n",
       "      <th>0</th>\n",
       "      <td>762616</td>\n",
       "      <td>The Complete SQL Bootcamp 2020: Go from Zero t...</td>\n",
       "      <td>True</td>\n",
       "      <td>295509</td>\n",
       "      <td>4.66019</td>\n",
       "      <td>4.67874</td>\n",
       "      <td>4.67874</td>\n",
       "      <td>78006</td>\n",
       "      <td>False</td>\n",
       "      <td>84</td>\n",
       "      <td>0</td>\n",
       "      <td>2016-04-06 05:16:11+00:00</td>\n",
       "      <td>455.0</td>\n",
       "      <td>8640.0</td>\n",
       "    </tr>\n",
       "    <tr>\n",
       "      <th>1</th>\n",
       "      <td>937678</td>\n",
       "      <td>Tableau 2020 A-Z: Hands-On Tableau Training fo...</td>\n",
       "      <td>True</td>\n",
       "      <td>209070</td>\n",
       "      <td>4.58956</td>\n",
       "      <td>4.60015</td>\n",
       "      <td>4.60015</td>\n",
       "      <td>54581</td>\n",
       "      <td>False</td>\n",
       "      <td>78</td>\n",
       "      <td>0</td>\n",
       "      <td>2016-08-23 16:59:49+00:00</td>\n",
       "      <td>455.0</td>\n",
       "      <td>8640.0</td>\n",
       "    </tr>\n",
       "    <tr>\n",
       "      <th>2</th>\n",
       "      <td>1361790</td>\n",
       "      <td>PMP Exam Prep Seminar -  PMBOK Guide 6</td>\n",
       "      <td>True</td>\n",
       "      <td>155282</td>\n",
       "      <td>4.59491</td>\n",
       "      <td>4.59326</td>\n",
       "      <td>4.59326</td>\n",
       "      <td>52653</td>\n",
       "      <td>False</td>\n",
       "      <td>292</td>\n",
       "      <td>2</td>\n",
       "      <td>2017-11-14 23:58:14+00:00</td>\n",
       "      <td>455.0</td>\n",
       "      <td>8640.0</td>\n",
       "    </tr>\n",
       "    <tr>\n",
       "      <th>3</th>\n",
       "      <td>648826</td>\n",
       "      <td>The Complete Financial Analyst Course 2020</td>\n",
       "      <td>True</td>\n",
       "      <td>245860</td>\n",
       "      <td>4.54407</td>\n",
       "      <td>4.53772</td>\n",
       "      <td>4.53772</td>\n",
       "      <td>46447</td>\n",
       "      <td>False</td>\n",
       "      <td>338</td>\n",
       "      <td>0</td>\n",
       "      <td>2016-01-21 01:38:48+00:00</td>\n",
       "      <td>455.0</td>\n",
       "      <td>8640.0</td>\n",
       "    </tr>\n",
       "    <tr>\n",
       "      <th>4</th>\n",
       "      <td>637930</td>\n",
       "      <td>An Entire MBA in 1 Course:Award Winning Busine...</td>\n",
       "      <td>True</td>\n",
       "      <td>374836</td>\n",
       "      <td>4.47080</td>\n",
       "      <td>4.47173</td>\n",
       "      <td>4.47173</td>\n",
       "      <td>41630</td>\n",
       "      <td>False</td>\n",
       "      <td>83</td>\n",
       "      <td>0</td>\n",
       "      <td>2016-01-11 21:39:33+00:00</td>\n",
       "      <td>455.0</td>\n",
       "      <td>8640.0</td>\n",
       "    </tr>\n",
       "  </tbody>\n",
       "</table>\n",
       "</div>"
      ],
      "text/plain": [
       "        id                                              title  is_paid  \\\n",
       "0   762616  The Complete SQL Bootcamp 2020: Go from Zero t...     True   \n",
       "1   937678  Tableau 2020 A-Z: Hands-On Tableau Training fo...     True   \n",
       "2  1361790             PMP Exam Prep Seminar -  PMBOK Guide 6     True   \n",
       "3   648826         The Complete Financial Analyst Course 2020     True   \n",
       "4   637930  An Entire MBA in 1 Course:Award Winning Busine...     True   \n",
       "\n",
       "   num_subscribers  avg_rating  avg_rating_recent   rating  num_reviews  \\\n",
       "0           295509     4.66019            4.67874  4.67874        78006   \n",
       "1           209070     4.58956            4.60015  4.60015        54581   \n",
       "2           155282     4.59491            4.59326  4.59326        52653   \n",
       "3           245860     4.54407            4.53772  4.53772        46447   \n",
       "4           374836     4.47080            4.47173  4.47173        41630   \n",
       "\n",
       "   is_wishlisted  num_published_lectures  num_published_practice_tests  \\\n",
       "0          False                      84                             0   \n",
       "1          False                      78                             0   \n",
       "2          False                     292                             2   \n",
       "3          False                     338                             0   \n",
       "4          False                      83                             0   \n",
       "\n",
       "             published_time  discount_price__amount  price_detail__amount  \n",
       "0 2016-04-06 05:16:11+00:00                   455.0                8640.0  \n",
       "1 2016-08-23 16:59:49+00:00                   455.0                8640.0  \n",
       "2 2017-11-14 23:58:14+00:00                   455.0                8640.0  \n",
       "3 2016-01-21 01:38:48+00:00                   455.0                8640.0  \n",
       "4 2016-01-11 21:39:33+00:00                   455.0                8640.0  "
      ]
     },
     "execution_count": 6,
     "metadata": {},
     "output_type": "execute_result"
    }
   ],
   "source": [
    "df.head(5)"
   ]
  },
  {
   "cell_type": "code",
   "execution_count": 7,
   "id": "normal-volume",
   "metadata": {
    "execution": {
     "iopub.execute_input": "2023-05-13T13:25:20.534043Z",
     "iopub.status.busy": "2023-05-13T13:25:20.532475Z",
     "iopub.status.idle": "2023-05-13T13:25:20.541077Z",
     "shell.execute_reply": "2023-05-13T13:25:20.540359Z",
     "shell.execute_reply.started": "2023-05-13T13:06:18.129300Z"
    },
    "papermill": {
     "duration": 0.058992,
     "end_time": "2023-05-13T13:25:20.541252",
     "exception": false,
     "start_time": "2023-05-13T13:25:20.482260",
     "status": "completed"
    },
    "tags": []
   },
   "outputs": [
    {
     "data": {
      "text/plain": [
       "(13608, 14)"
      ]
     },
     "execution_count": 7,
     "metadata": {},
     "output_type": "execute_result"
    }
   ],
   "source": [
    "df.shape"
   ]
  },
  {
   "cell_type": "code",
   "execution_count": 8,
   "id": "forbidden-incidence",
   "metadata": {
    "execution": {
     "iopub.execute_input": "2023-05-13T13:25:20.641766Z",
     "iopub.status.busy": "2023-05-13T13:25:20.640638Z",
     "iopub.status.idle": "2023-05-13T13:25:20.653358Z",
     "shell.execute_reply": "2023-05-13T13:25:20.653975Z",
     "shell.execute_reply.started": "2023-05-13T13:06:18.138002Z"
    },
    "papermill": {
     "duration": 0.067498,
     "end_time": "2023-05-13T13:25:20.654221",
     "exception": false,
     "start_time": "2023-05-13T13:25:20.586723",
     "status": "completed"
    },
    "tags": []
   },
   "outputs": [
    {
     "data": {
      "text/plain": [
       "id                                 0\n",
       "title                              0\n",
       "is_paid                            0\n",
       "num_subscribers                    0\n",
       "avg_rating                         0\n",
       "avg_rating_recent                  0\n",
       "rating                             0\n",
       "num_reviews                        0\n",
       "is_wishlisted                      0\n",
       "num_published_lectures             0\n",
       "num_published_practice_tests       0\n",
       "published_time                     0\n",
       "discount_price__amount          1403\n",
       "price_detail__amount             497\n",
       "dtype: int64"
      ]
     },
     "execution_count": 8,
     "metadata": {},
     "output_type": "execute_result"
    }
   ],
   "source": [
    "df.isnull().sum()"
   ]
  },
  {
   "cell_type": "code",
   "execution_count": 9,
   "id": "blind-delaware",
   "metadata": {
    "execution": {
     "iopub.execute_input": "2023-05-13T13:25:20.759229Z",
     "iopub.status.busy": "2023-05-13T13:25:20.758420Z",
     "iopub.status.idle": "2023-05-13T13:25:20.766896Z",
     "shell.execute_reply": "2023-05-13T13:25:20.767632Z",
     "shell.execute_reply.started": "2023-05-13T13:06:18.153573Z"
    },
    "papermill": {
     "duration": 0.064176,
     "end_time": "2023-05-13T13:25:20.767876",
     "exception": false,
     "start_time": "2023-05-13T13:25:20.703700",
     "status": "completed"
    },
    "tags": []
   },
   "outputs": [],
   "source": [
    "df['discount_price__amount']=df['discount_price__amount'].fillna(df['discount_price__amount'].median())"
   ]
  },
  {
   "cell_type": "code",
   "execution_count": 10,
   "id": "flying-rocket",
   "metadata": {
    "execution": {
     "iopub.execute_input": "2023-05-13T13:25:20.870365Z",
     "iopub.status.busy": "2023-05-13T13:25:20.869251Z",
     "iopub.status.idle": "2023-05-13T13:25:20.872310Z",
     "shell.execute_reply": "2023-05-13T13:25:20.873236Z",
     "shell.execute_reply.started": "2023-05-13T13:06:18.162098Z"
    },
    "papermill": {
     "duration": 0.059261,
     "end_time": "2023-05-13T13:25:20.873479",
     "exception": false,
     "start_time": "2023-05-13T13:25:20.814218",
     "status": "completed"
    },
    "tags": []
   },
   "outputs": [],
   "source": [
    "df['price_detail__amount']=df['price_detail__amount'].fillna(df['price_detail__amount'].median())"
   ]
  },
  {
   "cell_type": "code",
   "execution_count": 11,
   "id": "affecting-shelf",
   "metadata": {
    "execution": {
     "iopub.execute_input": "2023-05-13T13:25:20.973866Z",
     "iopub.status.busy": "2023-05-13T13:25:20.972795Z",
     "iopub.status.idle": "2023-05-13T13:25:20.984042Z",
     "shell.execute_reply": "2023-05-13T13:25:20.984661Z",
     "shell.execute_reply.started": "2023-05-13T13:06:18.172973Z"
    },
    "papermill": {
     "duration": 0.061018,
     "end_time": "2023-05-13T13:25:20.984871",
     "exception": false,
     "start_time": "2023-05-13T13:25:20.923853",
     "status": "completed"
    },
    "tags": []
   },
   "outputs": [
    {
     "data": {
      "text/plain": [
       "True     13112\n",
       "False      496\n",
       "Name: is_paid, dtype: int64"
      ]
     },
     "execution_count": 11,
     "metadata": {},
     "output_type": "execute_result"
    }
   ],
   "source": [
    "df['is_paid'].value_counts()"
   ]
  },
  {
   "cell_type": "code",
   "execution_count": 12,
   "id": "legitimate-martial",
   "metadata": {
    "execution": {
     "iopub.execute_input": "2023-05-13T13:25:21.089784Z",
     "iopub.status.busy": "2023-05-13T13:25:21.088735Z",
     "iopub.status.idle": "2023-05-13T13:25:21.370409Z",
     "shell.execute_reply": "2023-05-13T13:25:21.371021Z",
     "shell.execute_reply.started": "2023-05-13T13:06:18.184147Z"
    },
    "papermill": {
     "duration": 0.331342,
     "end_time": "2023-05-13T13:25:21.371219",
     "exception": false,
     "start_time": "2023-05-13T13:25:21.039877",
     "status": "completed"
    },
    "tags": []
   },
   "outputs": [
    {
     "name": "stderr",
     "output_type": "stream",
     "text": [
      "/opt/conda/lib/python3.7/site-packages/ipykernel_launcher.py:9: UserWarning: FixedFormatter should only be used together with FixedLocator\n",
      "  if __name__ == '__main__':\n"
     ]
    },
    {
     "data": {
      "image/png": "[encoded data removed]",
      "text/plain": [
       "<Figure size 1080x432 with 1 Axes>"
      ]
     },
     "metadata": {
      "needs_background": "light"
     },
     "output_type": "display_data"
    }
   ],
   "source": [
    "fig,ax=plt.subplots(1,1,figsize=(15,6))\n",
    "df_q1=df['is_paid'].value_counts()\n",
    "ax.bar(df_q1.index,df_q1,width=0.55, edgecolor='darkgray', color='#d4dddd',linewidth=0.7)\n",
    "for i in df_q1.index:\n",
    "    ax.annotate(f\"{df_q1[i]}\",xy=(i,df_q1[i]+100), va = 'center', ha='center',fontweight='light', fontfamily='serif',color='#4a4a4a')\n",
    "for s in ['top', 'left', 'right']:\n",
    "    ax.spines[s].set_visible(False)\n",
    "ax.set_ylim(0, 15000)    \n",
    "ax.set_yticklabels(np.arange(0, 15000, 500),fontfamily='serif')\n",
    "fig.text(0.1, 0.95, 'paid Distribution', fontsize=15, fontweight='bold', fontfamily='serif')    \n",
    "ax.grid(axis='y', linestyle='-', alpha=0.4)    \n",
    "plt.show()\n"
   ]
  },
  {
   "cell_type": "code",
   "execution_count": 13,
   "id": "current-front",
   "metadata": {
    "execution": {
     "iopub.execute_input": "2023-05-13T13:25:21.469528Z",
     "iopub.status.busy": "2023-05-13T13:25:21.468482Z",
     "iopub.status.idle": "2023-05-13T13:25:21.488968Z",
     "shell.execute_reply": "2023-05-13T13:25:21.489607Z",
     "shell.execute_reply.started": "2023-05-13T13:06:18.341769Z"
    },
    "papermill": {
     "duration": 0.072332,
     "end_time": "2023-05-13T13:25:21.489798",
     "exception": false,
     "start_time": "2023-05-13T13:25:21.417466",
     "status": "completed"
    },
    "tags": []
   },
   "outputs": [
    {
     "data": {
      "text/html": [
       "<div>\n",
       "<style scoped>\n",
       "    .dataframe tbody tr th:only-of-type {\n",
       "        vertical-align: middle;\n",
       "    }\n",
       "\n",
       "    .dataframe tbody tr th {\n",
       "        vertical-align: top;\n",
       "    }\n",
       "\n",
       "    .dataframe thead th {\n",
       "        text-align: right;\n",
       "    }\n",
       "</style>\n",
       "<table border=\"1\" class=\"dataframe\">\n",
       "  <thead>\n",
       "    <tr style=\"text-align: right;\">\n",
       "      <th></th>\n",
       "      <th>id</th>\n",
       "      <th>title</th>\n",
       "      <th>is_paid</th>\n",
       "      <th>num_subscribers</th>\n",
       "      <th>avg_rating</th>\n",
       "      <th>avg_rating_recent</th>\n",
       "      <th>rating</th>\n",
       "      <th>num_reviews</th>\n",
       "      <th>is_wishlisted</th>\n",
       "      <th>num_published_lectures</th>\n",
       "      <th>num_published_practice_tests</th>\n",
       "      <th>published_time</th>\n",
       "      <th>discount_price__amount</th>\n",
       "      <th>price_detail__amount</th>\n",
       "    </tr>\n",
       "  </thead>\n",
       "  <tbody>\n",
       "    <tr>\n",
       "      <th>0</th>\n",
       "      <td>762616</td>\n",
       "      <td>The Complete SQL Bootcamp 2020: Go from Zero t...</td>\n",
       "      <td>True</td>\n",
       "      <td>295509</td>\n",
       "      <td>4.66019</td>\n",
       "      <td>4.67874</td>\n",
       "      <td>4.67874</td>\n",
       "      <td>78006</td>\n",
       "      <td>False</td>\n",
       "      <td>84</td>\n",
       "      <td>0</td>\n",
       "      <td>2016-04-06 05:16:11+00:00</td>\n",
       "      <td>455.0</td>\n",
       "      <td>8640.0</td>\n",
       "    </tr>\n",
       "    <tr>\n",
       "      <th>1</th>\n",
       "      <td>937678</td>\n",
       "      <td>Tableau 2020 A-Z: Hands-On Tableau Training fo...</td>\n",
       "      <td>True</td>\n",
       "      <td>209070</td>\n",
       "      <td>4.58956</td>\n",
       "      <td>4.60015</td>\n",
       "      <td>4.60015</td>\n",
       "      <td>54581</td>\n",
       "      <td>False</td>\n",
       "      <td>78</td>\n",
       "      <td>0</td>\n",
       "      <td>2016-08-23 16:59:49+00:00</td>\n",
       "      <td>455.0</td>\n",
       "      <td>8640.0</td>\n",
       "    </tr>\n",
       "    <tr>\n",
       "      <th>2</th>\n",
       "      <td>1361790</td>\n",
       "      <td>PMP Exam Prep Seminar -  PMBOK Guide 6</td>\n",
       "      <td>True</td>\n",
       "      <td>155282</td>\n",
       "      <td>4.59491</td>\n",
       "      <td>4.59326</td>\n",
       "      <td>4.59326</td>\n",
       "      <td>52653</td>\n",
       "      <td>False</td>\n",
       "      <td>292</td>\n",
       "      <td>2</td>\n",
       "      <td>2017-11-14 23:58:14+00:00</td>\n",
       "      <td>455.0</td>\n",
       "      <td>8640.0</td>\n",
       "    </tr>\n",
       "  </tbody>\n",
       "</table>\n",
       "</div>"
      ],
      "text/plain": [
       "        id                                              title  is_paid  \\\n",
       "0   762616  The Complete SQL Bootcamp 2020: Go from Zero t...     True   \n",
       "1   937678  Tableau 2020 A-Z: Hands-On Tableau Training fo...     True   \n",
       "2  1361790             PMP Exam Prep Seminar -  PMBOK Guide 6     True   \n",
       "\n",
       "   num_subscribers  avg_rating  avg_rating_recent   rating  num_reviews  \\\n",
       "0           295509     4.66019            4.67874  4.67874        78006   \n",
       "1           209070     4.58956            4.60015  4.60015        54581   \n",
       "2           155282     4.59491            4.59326  4.59326        52653   \n",
       "\n",
       "   is_wishlisted  num_published_lectures  num_published_practice_tests  \\\n",
       "0          False                      84                             0   \n",
       "1          False                      78                             0   \n",
       "2          False                     292                             2   \n",
       "\n",
       "             published_time  discount_price__amount  price_detail__amount  \n",
       "0 2016-04-06 05:16:11+00:00                   455.0                8640.0  \n",
       "1 2016-08-23 16:59:49+00:00                   455.0                8640.0  \n",
       "2 2017-11-14 23:58:14+00:00                   455.0                8640.0  "
      ]
     },
     "execution_count": 13,
     "metadata": {},
     "output_type": "execute_result"
    }
   ],
   "source": [
    "df.head(3)"
   ]
  },
  {
   "cell_type": "code",
   "execution_count": 14,
   "id": "preceding-bristol",
   "metadata": {
    "execution": {
     "iopub.execute_input": "2023-05-13T13:25:21.594491Z",
     "iopub.status.busy": "2023-05-13T13:25:21.593480Z",
     "iopub.status.idle": "2023-05-13T13:25:21.597343Z",
     "shell.execute_reply": "2023-05-13T13:25:21.597993Z",
     "shell.execute_reply.started": "2023-05-13T13:06:18.359397Z"
    },
    "papermill": {
     "duration": 0.061392,
     "end_time": "2023-05-13T13:25:21.598188",
     "exception": false,
     "start_time": "2023-05-13T13:25:21.536796",
     "status": "completed"
    },
    "tags": []
   },
   "outputs": [
    {
     "data": {
      "text/plain": [
       "0    13008\n",
       "2      214\n",
       "1      202\n",
       "6       67\n",
       "5       43\n",
       "3       39\n",
       "4       35\n",
       "Name: num_published_practice_tests, dtype: int64"
      ]
     },
     "execution_count": 14,
     "metadata": {},
     "output_type": "execute_result"
    }
   ],
   "source": [
    "df['num_published_practice_tests'].value_counts()"
   ]
  },
  {
   "cell_type": "code",
   "execution_count": 15,
   "id": "sustainable-payday",
   "metadata": {
    "execution": {
     "iopub.execute_input": "2023-05-13T13:25:21.697079Z",
     "iopub.status.busy": "2023-05-13T13:25:21.696058Z",
     "iopub.status.idle": "2023-05-13T13:25:21.711614Z",
     "shell.execute_reply": "2023-05-13T13:25:21.712230Z",
     "shell.execute_reply.started": "2023-05-13T13:06:18.372662Z"
    },
    "papermill": {
     "duration": 0.066746,
     "end_time": "2023-05-13T13:25:21.712428",
     "exception": false,
     "start_time": "2023-05-13T13:25:21.645682",
     "status": "completed"
    },
    "tags": []
   },
   "outputs": [],
   "source": [
    "df_q2=df.groupby('is_paid')['num_published_practice_tests'].value_counts().unstack().sort_index().fillna(0)"
   ]
  },
  {
   "cell_type": "code",
   "execution_count": 16,
   "id": "going-laser",
   "metadata": {
    "execution": {
     "iopub.execute_input": "2023-05-13T13:25:21.812977Z",
     "iopub.status.busy": "2023-05-13T13:25:21.811903Z",
     "iopub.status.idle": "2023-05-13T13:25:22.077690Z",
     "shell.execute_reply": "2023-05-13T13:25:22.077079Z",
     "shell.execute_reply.started": "2023-05-13T13:06:18.386912Z"
    },
    "papermill": {
     "duration": 0.317332,
     "end_time": "2023-05-13T13:25:22.077858",
     "exception": false,
     "start_time": "2023-05-13T13:25:21.760526",
     "status": "completed"
    },
    "tags": []
   },
   "outputs": [
    {
     "name": "stderr",
     "output_type": "stream",
     "text": [
      "/opt/conda/lib/python3.7/site-packages/ipykernel_launcher.py:14: UserWarning: FixedFormatter should only be used together with FixedLocator\n",
      "  \n"
     ]
    },
    {
     "data": {
      "image/png": "[encoded data removed]",
      "text/plain": [
       "<Figure size 1080x432 with 1 Axes>"
      ]
     },
     "metadata": {
      "needs_background": "light"
     },
     "output_type": "display_data"
    }
   ],
   "source": [
    "false=-df_q2.loc[0]\n",
    "true=df_q2.loc[1]\n",
    "fig,ax=plt.subplots(1,1,figsize=(15,6))\n",
    "ax.bar(true.index, true, width=0.55, color='#004c70', alpha=0.8, label='true')\n",
    "ax.bar(false.index, false, width=0.55, color='#990000', alpha=0.8, label='false')\n",
    "ax.set_ylim(-1200, 13000)\n",
    "for i in false.index:\n",
    "    ax.annotate(f\"{-false[i]}\",xy=(i, false[i] - 100),va = 'center', ha='center',fontweight='light', fontfamily='serif',color='#4a4a4a')\n",
    "for i in true.index:\n",
    "     ax.annotate(f\"{true[i]}\",xy=(i, true[i] + 100),va = 'center', ha='center',fontweight='light', fontfamily='serif',color='#4a4a4a')\n",
    "for s in ['top', 'left', 'right', 'bottom']:\n",
    "    ax.spines[s].set_visible(False)\n",
    "\n",
    "ax.set_xticklabels(df_q2.columns, fontfamily='serif')\n",
    "ax.set_yticks([])    \n",
    "ax.legend()\n",
    "fig.text(0.16, 0.95, 'num_published_practice_tests', fontsize=15, fontweight='bold', fontfamily='serif')    \n",
    "plt.show()\n",
    "    \n",
    "\n"
   ]
  },
  {
   "cell_type": "code",
   "execution_count": 17,
   "id": "excited-vector",
   "metadata": {
    "execution": {
     "iopub.execute_input": "2023-05-13T13:25:22.184150Z",
     "iopub.status.busy": "2023-05-13T13:25:22.183028Z",
     "iopub.status.idle": "2023-05-13T13:25:22.190347Z",
     "shell.execute_reply": "2023-05-13T13:25:22.190916Z",
     "shell.execute_reply.started": "2023-05-13T13:06:18.869036Z"
    },
    "papermill": {
     "duration": 0.06361,
     "end_time": "2023-05-13T13:25:22.191126",
     "exception": false,
     "start_time": "2023-05-13T13:25:22.127516",
     "status": "completed"
    },
    "tags": []
   },
   "outputs": [],
   "source": [
    "df_q3=df.groupby('is_paid')['discount_price__amount'].value_counts()[:12].unstack().sort_index().fillna(0)"
   ]
  },
  {
   "cell_type": "code",
   "execution_count": 18,
   "id": "patient-cookbook",
   "metadata": {
    "execution": {
     "iopub.execute_input": "2023-05-13T13:25:22.294900Z",
     "iopub.status.busy": "2023-05-13T13:25:22.293864Z",
     "iopub.status.idle": "2023-05-13T13:25:22.315642Z",
     "shell.execute_reply": "2023-05-13T13:25:22.316179Z",
     "shell.execute_reply.started": "2023-05-13T13:06:18.878601Z"
    },
    "papermill": {
     "duration": 0.076005,
     "end_time": "2023-05-13T13:25:22.316383",
     "exception": false,
     "start_time": "2023-05-13T13:25:22.240378",
     "status": "completed"
    },
    "tags": []
   },
   "outputs": [
    {
     "data": {
      "text/html": [
       "<div>\n",
       "<style scoped>\n",
       "    .dataframe tbody tr th:only-of-type {\n",
       "        vertical-align: middle;\n",
       "    }\n",
       "\n",
       "    .dataframe tbody tr th {\n",
       "        vertical-align: top;\n",
       "    }\n",
       "\n",
       "    .dataframe thead th {\n",
       "        text-align: right;\n",
       "    }\n",
       "</style>\n",
       "<table border=\"1\" class=\"dataframe\">\n",
       "  <thead>\n",
       "    <tr style=\"text-align: right;\">\n",
       "      <th>discount_price__amount</th>\n",
       "      <th>455.0</th>\n",
       "      <th>468.0</th>\n",
       "      <th>700.0</th>\n",
       "      <th>3200.0</th>\n",
       "      <th>462.0</th>\n",
       "      <th>481.0</th>\n",
       "      <th>800.0</th>\n",
       "      <th>520.0</th>\n",
       "      <th>474.0</th>\n",
       "      <th>488.0</th>\n",
       "      <th>1600.0</th>\n",
       "    </tr>\n",
       "    <tr>\n",
       "      <th>is_paid</th>\n",
       "      <th></th>\n",
       "      <th></th>\n",
       "      <th></th>\n",
       "      <th></th>\n",
       "      <th></th>\n",
       "      <th></th>\n",
       "      <th></th>\n",
       "      <th></th>\n",
       "      <th></th>\n",
       "      <th></th>\n",
       "      <th></th>\n",
       "    </tr>\n",
       "  </thead>\n",
       "  <tbody>\n",
       "    <tr>\n",
       "      <th>False</th>\n",
       "      <td>496.0</td>\n",
       "      <td>0.0</td>\n",
       "      <td>0.0</td>\n",
       "      <td>0.0</td>\n",
       "      <td>0.0</td>\n",
       "      <td>0.0</td>\n",
       "      <td>0.0</td>\n",
       "      <td>0.0</td>\n",
       "      <td>0.0</td>\n",
       "      <td>0.0</td>\n",
       "      <td>0.0</td>\n",
       "    </tr>\n",
       "    <tr>\n",
       "      <th>True</th>\n",
       "      <td>12317.0</td>\n",
       "      <td>135.0</td>\n",
       "      <td>86.0</td>\n",
       "      <td>61.0</td>\n",
       "      <td>47.0</td>\n",
       "      <td>44.0</td>\n",
       "      <td>39.0</td>\n",
       "      <td>34.0</td>\n",
       "      <td>30.0</td>\n",
       "      <td>27.0</td>\n",
       "      <td>27.0</td>\n",
       "    </tr>\n",
       "  </tbody>\n",
       "</table>\n",
       "</div>"
      ],
      "text/plain": [
       "discount_price__amount   455.0   468.0   700.0   3200.0  462.0   481.0   \\\n",
       "is_paid                                                                   \n",
       "False                     496.0     0.0     0.0     0.0     0.0     0.0   \n",
       "True                    12317.0   135.0    86.0    61.0    47.0    44.0   \n",
       "\n",
       "discount_price__amount  800.0   520.0   474.0   488.0   1600.0  \n",
       "is_paid                                                         \n",
       "False                      0.0     0.0     0.0     0.0     0.0  \n",
       "True                      39.0    34.0    30.0    27.0    27.0  "
      ]
     },
     "execution_count": 18,
     "metadata": {},
     "output_type": "execute_result"
    }
   ],
   "source": [
    "df_q3"
   ]
  },
  {
   "cell_type": "code",
   "execution_count": 19,
   "id": "administrative-festival",
   "metadata": {
    "execution": {
     "iopub.execute_input": "2023-05-13T13:25:22.418978Z",
     "iopub.status.busy": "2023-05-13T13:25:22.417945Z",
     "iopub.status.idle": "2023-05-13T13:25:22.436701Z",
     "shell.execute_reply": "2023-05-13T13:25:22.436058Z",
     "shell.execute_reply.started": "2023-05-13T13:06:18.898962Z"
    },
    "papermill": {
     "duration": 0.071115,
     "end_time": "2023-05-13T13:25:22.436878",
     "exception": false,
     "start_time": "2023-05-13T13:25:22.365763",
     "status": "completed"
    },
    "tags": []
   },
   "outputs": [
    {
     "name": "stdout",
     "output_type": "stream",
     "text": [
      "<class 'pandas.core.frame.DataFrame'>\n",
      "RangeIndex: 13608 entries, 0 to 13607\n",
      "Data columns (total 14 columns):\n",
      " #   Column                        Non-Null Count  Dtype              \n",
      "---  ------                        --------------  -----              \n",
      " 0   id                            13608 non-null  int64              \n",
      " 1   title                         13608 non-null  object             \n",
      " 2   is_paid                       13608 non-null  bool               \n",
      " 3   num_subscribers               13608 non-null  int64              \n",
      " 4   avg_rating                    13608 non-null  float64            \n",
      " 5   avg_rating_recent             13608 non-null  float64            \n",
      " 6   rating                        13608 non-null  float64            \n",
      " 7   num_reviews                   13608 non-null  int64              \n",
      " 8   is_wishlisted                 13608 non-null  bool               \n",
      " 9   num_published_lectures        13608 non-null  int64              \n",
      " 10  num_published_practice_tests  13608 non-null  int64              \n",
      " 11  published_time                13608 non-null  datetime64[ns, UTC]\n",
      " 12  discount_price__amount        13608 non-null  float64            \n",
      " 13  price_detail__amount          13608 non-null  float64            \n",
      "dtypes: bool(2), datetime64[ns, UTC](1), float64(5), int64(5), object(1)\n",
      "memory usage: 1.3+ MB\n"
     ]
    }
   ],
   "source": [
    "df.info()"
   ]
  },
  {
   "cell_type": "code",
   "execution_count": 20,
   "id": "hidden-mercury",
   "metadata": {
    "execution": {
     "iopub.execute_input": "2023-05-13T13:25:22.544478Z",
     "iopub.status.busy": "2023-05-13T13:25:22.543412Z",
     "iopub.status.idle": "2023-05-13T13:25:24.242149Z",
     "shell.execute_reply": "2023-05-13T13:25:24.241331Z",
     "shell.execute_reply.started": "2023-05-13T13:06:18.917651Z"
    },
    "papermill": {
     "duration": 1.753599,
     "end_time": "2023-05-13T13:25:24.242310",
     "exception": false,
     "start_time": "2023-05-13T13:25:22.488711",
     "status": "completed"
    },
    "tags": []
   },
   "outputs": [
    {
     "name": "stderr",
     "output_type": "stream",
     "text": [
      "/opt/conda/lib/python3.7/site-packages/pandas/plotting/_matplotlib/tools.py:400: MatplotlibDeprecationWarning: \n",
      "The is_first_col function was deprecated in Matplotlib 3.4 and will be removed two minor releases later. Use ax.get_subplotspec().is_first_col() instead.\n",
      "  if ax.is_first_col():\n"
     ]
    },
    {
     "data": {
      "image/png": "[encoded data removed]",
      "text/plain": [
       "<Figure size 1440x720 with 9 Axes>"
      ]
     },
     "metadata": {
      "needs_background": "light"
     },
     "output_type": "display_data"
    }
   ],
   "source": [
    "num=['num_subscribers','avg_rating','avg_rating_recent','rating','num_reviews','num_published_lectures','num_published_practice_tests','discount_price__amount','price_detail__amount']\n",
    "df.loc[:,num].hist(figsize=(20,10))\n",
    "plt.show()"
   ]
  },
  {
   "cell_type": "code",
   "execution_count": 21,
   "id": "caroline-sperm",
   "metadata": {
    "execution": {
     "iopub.execute_input": "2023-05-13T13:25:24.366544Z",
     "iopub.status.busy": "2023-05-13T13:25:24.365579Z",
     "iopub.status.idle": "2023-05-13T13:25:24.370910Z",
     "shell.execute_reply": "2023-05-13T13:25:24.370294Z",
     "shell.execute_reply.started": "2023-05-13T13:06:20.040772Z"
    },
    "papermill": {
     "duration": 0.07568,
     "end_time": "2023-05-13T13:25:24.371068",
     "exception": false,
     "start_time": "2023-05-13T13:25:24.295388",
     "status": "completed"
    },
    "tags": []
   },
   "outputs": [
    {
     "data": {
      "text/html": [
       "<div>\n",
       "<style scoped>\n",
       "    .dataframe tbody tr th:only-of-type {\n",
       "        vertical-align: middle;\n",
       "    }\n",
       "\n",
       "    .dataframe tbody tr th {\n",
       "        vertical-align: top;\n",
       "    }\n",
       "\n",
       "    .dataframe thead th {\n",
       "        text-align: right;\n",
       "    }\n",
       "</style>\n",
       "<table border=\"1\" class=\"dataframe\">\n",
       "  <thead>\n",
       "    <tr style=\"text-align: right;\">\n",
       "      <th></th>\n",
       "      <th>id</th>\n",
       "      <th>title</th>\n",
       "      <th>is_paid</th>\n",
       "      <th>num_subscribers</th>\n",
       "      <th>avg_rating</th>\n",
       "      <th>avg_rating_recent</th>\n",
       "      <th>rating</th>\n",
       "      <th>num_reviews</th>\n",
       "      <th>is_wishlisted</th>\n",
       "      <th>num_published_lectures</th>\n",
       "      <th>num_published_practice_tests</th>\n",
       "      <th>published_time</th>\n",
       "      <th>discount_price__amount</th>\n",
       "      <th>price_detail__amount</th>\n",
       "    </tr>\n",
       "  </thead>\n",
       "  <tbody>\n",
       "    <tr>\n",
       "      <th>0</th>\n",
       "      <td>762616</td>\n",
       "      <td>The Complete SQL Bootcamp 2020: Go from Zero t...</td>\n",
       "      <td>True</td>\n",
       "      <td>295509</td>\n",
       "      <td>4.66019</td>\n",
       "      <td>4.67874</td>\n",
       "      <td>4.67874</td>\n",
       "      <td>78006</td>\n",
       "      <td>False</td>\n",
       "      <td>84</td>\n",
       "      <td>0</td>\n",
       "      <td>2016-04-06 05:16:11+00:00</td>\n",
       "      <td>455.0</td>\n",
       "      <td>8640.0</td>\n",
       "    </tr>\n",
       "    <tr>\n",
       "      <th>1</th>\n",
       "      <td>937678</td>\n",
       "      <td>Tableau 2020 A-Z: Hands-On Tableau Training fo...</td>\n",
       "      <td>True</td>\n",
       "      <td>209070</td>\n",
       "      <td>4.58956</td>\n",
       "      <td>4.60015</td>\n",
       "      <td>4.60015</td>\n",
       "      <td>54581</td>\n",
       "      <td>False</td>\n",
       "      <td>78</td>\n",
       "      <td>0</td>\n",
       "      <td>2016-08-23 16:59:49+00:00</td>\n",
       "      <td>455.0</td>\n",
       "      <td>8640.0</td>\n",
       "    </tr>\n",
       "  </tbody>\n",
       "</table>\n",
       "</div>"
      ],
      "text/plain": [
       "       id                                              title  is_paid  \\\n",
       "0  762616  The Complete SQL Bootcamp 2020: Go from Zero t...     True   \n",
       "1  937678  Tableau 2020 A-Z: Hands-On Tableau Training fo...     True   \n",
       "\n",
       "   num_subscribers  avg_rating  avg_rating_recent   rating  num_reviews  \\\n",
       "0           295509     4.66019            4.67874  4.67874        78006   \n",
       "1           209070     4.58956            4.60015  4.60015        54581   \n",
       "\n",
       "   is_wishlisted  num_published_lectures  num_published_practice_tests  \\\n",
       "0          False                      84                             0   \n",
       "1          False                      78                             0   \n",
       "\n",
       "             published_time  discount_price__amount  price_detail__amount  \n",
       "0 2016-04-06 05:16:11+00:00                   455.0                8640.0  \n",
       "1 2016-08-23 16:59:49+00:00                   455.0                8640.0  "
      ]
     },
     "execution_count": 21,
     "metadata": {},
     "output_type": "execute_result"
    }
   ],
   "source": [
    "df.head(2)"
   ]
  },
  {
   "cell_type": "code",
   "execution_count": 22,
   "id": "limiting-practitioner",
   "metadata": {
    "execution": {
     "iopub.execute_input": "2023-05-13T13:25:24.489128Z",
     "iopub.status.busy": "2023-05-13T13:25:24.488254Z",
     "iopub.status.idle": "2023-05-13T13:25:24.491319Z",
     "shell.execute_reply": "2023-05-13T13:25:24.491954Z",
     "shell.execute_reply.started": "2023-05-13T13:06:20.059674Z"
    },
    "papermill": {
     "duration": 0.066483,
     "end_time": "2023-05-13T13:25:24.492144",
     "exception": false,
     "start_time": "2023-05-13T13:25:24.425661",
     "status": "completed"
    },
    "tags": []
   },
   "outputs": [],
   "source": [
    "df.drop('is_wishlisted', axis=1, inplace=True)"
   ]
  },
  {
   "cell_type": "code",
   "execution_count": 23,
   "id": "severe-florida",
   "metadata": {
    "execution": {
     "iopub.execute_input": "2023-05-13T13:25:24.608913Z",
     "iopub.status.busy": "2023-05-13T13:25:24.608143Z",
     "iopub.status.idle": "2023-05-13T13:25:24.612271Z",
     "shell.execute_reply": "2023-05-13T13:25:24.612921Z",
     "shell.execute_reply.started": "2023-05-13T13:06:20.067859Z"
    },
    "papermill": {
     "duration": 0.066519,
     "end_time": "2023-05-13T13:25:24.613143",
     "exception": false,
     "start_time": "2023-05-13T13:25:24.546624",
     "status": "completed"
    },
    "tags": []
   },
   "outputs": [
    {
     "data": {
      "text/plain": [
       "['id',\n",
       " 'num_subscribers',\n",
       " 'avg_rating',\n",
       " 'avg_rating_recent',\n",
       " 'rating',\n",
       " 'num_reviews',\n",
       " 'num_published_lectures',\n",
       " 'num_published_practice_tests',\n",
       " 'discount_price__amount',\n",
       " 'price_detail__amount']"
      ]
     },
     "execution_count": 23,
     "metadata": {},
     "output_type": "execute_result"
    }
   ],
   "source": [
    "list(df.select_dtypes(include=['int64','float64']))"
   ]
  },
  {
   "cell_type": "code",
   "execution_count": 24,
   "id": "spoken-portrait",
   "metadata": {
    "execution": {
     "iopub.execute_input": "2023-05-13T13:25:24.755427Z",
     "iopub.status.busy": "2023-05-13T13:25:24.750064Z",
     "iopub.status.idle": "2023-05-13T13:25:25.702959Z",
     "shell.execute_reply": "2023-05-13T13:25:25.702221Z",
     "shell.execute_reply.started": "2023-05-13T13:06:20.081890Z"
    },
    "papermill": {
     "duration": 1.035133,
     "end_time": "2023-05-13T13:25:25.703116",
     "exception": false,
     "start_time": "2023-05-13T13:25:24.667983",
     "status": "completed"
    },
    "tags": []
   },
   "outputs": [
    {
     "data": {
      "image/png": "[encoded data removed]",
      "text/plain": [
       "<Figure size 1080x432 with 2 Axes>"
      ]
     },
     "metadata": {
      "needs_background": "light"
     },
     "output_type": "display_data"
    }
   ],
   "source": [
    "fig=plt.subplots(1,1,figsize=(15,6))\n",
    "sns.heatmap(df.corr(), annot=True)\n",
    "plt.show()"
   ]
  },
  {
   "cell_type": "code",
   "execution_count": 25,
   "id": "unlimited-vegetation",
   "metadata": {
    "execution": {
     "iopub.execute_input": "2023-05-13T13:25:25.860533Z",
     "iopub.status.busy": "2023-05-13T13:25:25.859187Z",
     "iopub.status.idle": "2023-05-13T13:25:29.081801Z",
     "shell.execute_reply": "2023-05-13T13:25:29.081079Z",
     "shell.execute_reply.started": "2023-05-13T13:06:20.738317Z"
    },
    "papermill": {
     "duration": 3.32027,
     "end_time": "2023-05-13T13:25:29.082005",
     "exception": false,
     "start_time": "2023-05-13T13:25:25.761735",
     "status": "completed"
    },
    "tags": []
   },
   "outputs": [
    {
     "data": {
      "text/plain": [
       "<AxesSubplot:xlabel='num_reviews', ylabel='num_subscribers'>"
      ]
     },
     "execution_count": 25,
     "metadata": {},
     "output_type": "execute_result"
    },
    {
     "data": {
      "image/png": "[encoded data removed]",
      "text/plain": [
       "<Figure size 1800x504 with 3 Axes>"
      ]
     },
     "metadata": {
      "needs_background": "light"
     },
     "output_type": "display_data"
    }
   ],
   "source": [
    "fig, ax = plt.subplots(1,3,figsize=(25,7))\n",
    "sns.regplot(x='rating', y='avg_rating', data=df, ax=ax[0], marker=',', color='teal')\n",
    "sns.regplot(x='avg_rating_recent', y='avg_rating', data=df, ax=ax[1], marker=',', color='teal')\n",
    "sns.regplot(x='num_reviews', y='num_subscribers', data=df, ax=ax[2], marker=',', color='teal')"
   ]
  },
  {
   "cell_type": "code",
   "execution_count": 26,
   "id": "catholic-posting",
   "metadata": {
    "execution": {
     "iopub.execute_input": "2023-05-13T13:25:29.208310Z",
     "iopub.status.busy": "2023-05-13T13:25:29.207233Z",
     "iopub.status.idle": "2023-05-13T13:25:29.220315Z",
     "shell.execute_reply": "2023-05-13T13:25:29.219671Z",
     "shell.execute_reply.started": "2023-05-13T13:06:23.138082Z"
    },
    "papermill": {
     "duration": 0.079124,
     "end_time": "2023-05-13T13:25:29.220501",
     "exception": false,
     "start_time": "2023-05-13T13:25:29.141377",
     "status": "completed"
    },
    "tags": []
   },
   "outputs": [],
   "source": [
    "data=pd.DataFrame(df['published_time']).value_counts()"
   ]
  },
  {
   "cell_type": "code",
   "execution_count": 27,
   "id": "indie-garlic",
   "metadata": {
    "execution": {
     "iopub.execute_input": "2023-05-13T13:25:29.349164Z",
     "iopub.status.busy": "2023-05-13T13:25:29.348087Z",
     "iopub.status.idle": "2023-05-13T13:25:29.357618Z",
     "shell.execute_reply": "2023-05-13T13:25:29.356966Z",
     "shell.execute_reply.started": "2023-05-13T13:06:23.152902Z"
    },
    "papermill": {
     "duration": 0.075667,
     "end_time": "2023-05-13T13:25:29.357775",
     "exception": false,
     "start_time": "2023-05-13T13:25:29.282108",
     "status": "completed"
    },
    "tags": []
   },
   "outputs": [],
   "source": [
    "df['year']=df['published_time'].dt.year\n",
    "df['month']=df['published_time'].dt.month"
   ]
  },
  {
   "cell_type": "code",
   "execution_count": 28,
   "id": "tested-exercise",
   "metadata": {
    "execution": {
     "iopub.execute_input": "2023-05-13T13:25:29.487232Z",
     "iopub.status.busy": "2023-05-13T13:25:29.486227Z",
     "iopub.status.idle": "2023-05-13T13:25:29.490578Z",
     "shell.execute_reply": "2023-05-13T13:25:29.489975Z",
     "shell.execute_reply.started": "2023-05-13T13:06:23.163060Z"
    },
    "papermill": {
     "duration": 0.072117,
     "end_time": "2023-05-13T13:25:29.490740",
     "exception": false,
     "start_time": "2023-05-13T13:25:29.418623",
     "status": "completed"
    },
    "tags": []
   },
   "outputs": [
    {
     "data": {
      "text/plain": [
       "2018    2698\n",
       "2020    2689\n",
       "2019    2521\n",
       "2017    1883\n",
       "2015    1431\n",
       "2016    1269\n",
       "2014     685\n",
       "2013     352\n",
       "2012      70\n",
       "2011       9\n",
       "2010       1\n",
       "Name: year, dtype: int64"
      ]
     },
     "execution_count": 28,
     "metadata": {},
     "output_type": "execute_result"
    }
   ],
   "source": [
    "df['year'].value_counts()"
   ]
  },
  {
   "cell_type": "code",
   "execution_count": 29,
   "id": "irish-layer",
   "metadata": {
    "execution": {
     "iopub.execute_input": "2023-05-13T13:25:29.618829Z",
     "iopub.status.busy": "2023-05-13T13:25:29.617617Z",
     "iopub.status.idle": "2023-05-13T13:25:29.645329Z",
     "shell.execute_reply": "2023-05-13T13:25:29.645993Z",
     "shell.execute_reply.started": "2023-05-13T13:06:23.172332Z"
    },
    "papermill": {
     "duration": 0.09245,
     "end_time": "2023-05-13T13:25:29.646189",
     "exception": false,
     "start_time": "2023-05-13T13:25:29.553739",
     "status": "completed"
    },
    "tags": []
   },
   "outputs": [
    {
     "data": {
      "text/plain": [
       "2020    176\n",
       "2019     96\n",
       "2018     94\n",
       "2017     60\n",
       "2016     29\n",
       "2015     16\n",
       "2013     13\n",
       "2014     11\n",
       "2012      1\n",
       "Name: year, dtype: int64"
      ]
     },
     "execution_count": 29,
     "metadata": {},
     "output_type": "execute_result"
    }
   ],
   "source": [
    "false=df[df['is_paid']==False]['year'].value_counts()\n",
    "false"
   ]
  },
  {
   "cell_type": "code",
   "execution_count": 30,
   "id": "asian-namibia",
   "metadata": {
    "execution": {
     "iopub.execute_input": "2023-05-13T13:25:29.779132Z",
     "iopub.status.busy": "2023-05-13T13:25:29.778083Z",
     "iopub.status.idle": "2023-05-13T13:25:30.031581Z",
     "shell.execute_reply": "2023-05-13T13:25:30.030940Z",
     "shell.execute_reply.started": "2023-05-13T13:06:23.188356Z"
    },
    "papermill": {
     "duration": 0.320555,
     "end_time": "2023-05-13T13:25:30.031761",
     "exception": false,
     "start_time": "2023-05-13T13:25:29.711206",
     "status": "completed"
    },
    "tags": []
   },
   "outputs": [
    {
     "name": "stderr",
     "output_type": "stream",
     "text": [
      "/opt/conda/lib/python3.7/site-packages/seaborn/_decorators.py:43: FutureWarning: Pass the following variables as keyword args: x, y. From version 0.12, the only valid positional argument will be `data`, and passing other arguments without an explicit keyword will result in an error or misinterpretation.\n",
      "  FutureWarning\n"
     ]
    },
    {
     "data": {
      "text/plain": [
       "<AxesSubplot:ylabel='year'>"
      ]
     },
     "execution_count": 30,
     "metadata": {},
     "output_type": "execute_result"
    },
    {
     "data": {
      "image/png": "[encoded data removed]",
      "text/plain": [
       "<Figure size 1080x432 with 1 Axes>"
      ]
     },
     "metadata": {
      "needs_background": "light"
     },
     "output_type": "display_data"
    }
   ],
   "source": [
    "fig=plt.subplots(1,1,figsize=(15,6))\n",
    "sns.barplot(false.index,false)"
   ]
  },
  {
   "cell_type": "code",
   "execution_count": 31,
   "id": "strong-chamber",
   "metadata": {
    "execution": {
     "iopub.execute_input": "2023-05-13T13:25:30.170996Z",
     "iopub.status.busy": "2023-05-13T13:25:30.169873Z",
     "iopub.status.idle": "2023-05-13T13:25:30.179383Z",
     "shell.execute_reply": "2023-05-13T13:25:30.180052Z",
     "shell.execute_reply.started": "2023-05-13T13:06:23.369462Z"
    },
    "papermill": {
     "duration": 0.081666,
     "end_time": "2023-05-13T13:25:30.180258",
     "exception": false,
     "start_time": "2023-05-13T13:25:30.098592",
     "status": "completed"
    },
    "tags": []
   },
   "outputs": [
    {
     "data": {
      "text/plain": [
       "2018    2604\n",
       "2020    2513\n",
       "2019    2425\n",
       "2017    1823\n",
       "2015    1415\n",
       "2016    1240\n",
       "2014     674\n",
       "2013     339\n",
       "2012      69\n",
       "2011       9\n",
       "2010       1\n",
       "Name: year, dtype: int64"
      ]
     },
     "execution_count": 31,
     "metadata": {},
     "output_type": "execute_result"
    }
   ],
   "source": [
    "true=df[df['is_paid']==True]['year'].value_counts()\n",
    "true"
   ]
  },
  {
   "cell_type": "code",
   "execution_count": 32,
   "id": "accredited-portal",
   "metadata": {
    "execution": {
     "iopub.execute_input": "2023-05-13T13:25:30.313619Z",
     "iopub.status.busy": "2023-05-13T13:25:30.312452Z",
     "iopub.status.idle": "2023-05-13T13:25:30.559899Z",
     "shell.execute_reply": "2023-05-13T13:25:30.560492Z",
     "shell.execute_reply.started": "2023-05-13T13:06:23.379783Z"
    },
    "papermill": {
     "duration": 0.31756,
     "end_time": "2023-05-13T13:25:30.560704",
     "exception": false,
     "start_time": "2023-05-13T13:25:30.243144",
     "status": "completed"
    },
    "tags": []
   },
   "outputs": [
    {
     "name": "stderr",
     "output_type": "stream",
     "text": [
      "/opt/conda/lib/python3.7/site-packages/seaborn/_decorators.py:43: FutureWarning: Pass the following variables as keyword args: x, y. From version 0.12, the only valid positional argument will be `data`, and passing other arguments without an explicit keyword will result in an error or misinterpretation.\n",
      "  FutureWarning\n"
     ]
    },
    {
     "data": {
      "text/plain": [
       "<AxesSubplot:ylabel='year'>"
      ]
     },
     "execution_count": 32,
     "metadata": {},
     "output_type": "execute_result"
    },
    {
     "data": {
      "image/png": "[encoded data removed]",
      "text/plain": [
       "<Figure size 1080x432 with 1 Axes>"
      ]
     },
     "metadata": {
      "needs_background": "light"
     },
     "output_type": "display_data"
    }
   ],
   "source": [
    "fig=plt.subplots(1,1,figsize=(15,6))\n",
    "sns.barplot(true.index,true)"
   ]
  },
  {
   "cell_type": "code",
   "execution_count": 33,
   "id": "bigger-jacket",
   "metadata": {
    "execution": {
     "iopub.execute_input": "2023-05-13T13:25:30.711064Z",
     "iopub.status.busy": "2023-05-13T13:25:30.710275Z",
     "iopub.status.idle": "2023-05-13T13:25:30.713707Z",
     "shell.execute_reply": "2023-05-13T13:25:30.714440Z",
     "shell.execute_reply.started": "2023-05-13T13:06:23.704078Z"
    },
    "papermill": {
     "duration": 0.088073,
     "end_time": "2023-05-13T13:25:30.714631",
     "exception": false,
     "start_time": "2023-05-13T13:25:30.626558",
     "status": "completed"
    },
    "tags": []
   },
   "outputs": [
    {
     "data": {
      "text/html": [
       "<div>\n",
       "<style scoped>\n",
       "    .dataframe tbody tr th:only-of-type {\n",
       "        vertical-align: middle;\n",
       "    }\n",
       "\n",
       "    .dataframe tbody tr th {\n",
       "        vertical-align: top;\n",
       "    }\n",
       "\n",
       "    .dataframe thead th {\n",
       "        text-align: right;\n",
       "    }\n",
       "</style>\n",
       "<table border=\"1\" class=\"dataframe\">\n",
       "  <thead>\n",
       "    <tr style=\"text-align: right;\">\n",
       "      <th></th>\n",
       "      <th>id</th>\n",
       "      <th>title</th>\n",
       "      <th>is_paid</th>\n",
       "      <th>num_subscribers</th>\n",
       "      <th>avg_rating</th>\n",
       "      <th>avg_rating_recent</th>\n",
       "      <th>rating</th>\n",
       "      <th>num_reviews</th>\n",
       "      <th>num_published_lectures</th>\n",
       "      <th>num_published_practice_tests</th>\n",
       "      <th>published_time</th>\n",
       "      <th>discount_price__amount</th>\n",
       "      <th>price_detail__amount</th>\n",
       "      <th>year</th>\n",
       "      <th>month</th>\n",
       "    </tr>\n",
       "  </thead>\n",
       "  <tbody>\n",
       "    <tr>\n",
       "      <th>0</th>\n",
       "      <td>762616</td>\n",
       "      <td>The Complete SQL Bootcamp 2020: Go from Zero t...</td>\n",
       "      <td>True</td>\n",
       "      <td>295509</td>\n",
       "      <td>4.66019</td>\n",
       "      <td>4.67874</td>\n",
       "      <td>4.67874</td>\n",
       "      <td>78006</td>\n",
       "      <td>84</td>\n",
       "      <td>0</td>\n",
       "      <td>2016-04-06 05:16:11+00:00</td>\n",
       "      <td>455.0</td>\n",
       "      <td>8640.0</td>\n",
       "      <td>2016</td>\n",
       "      <td>4</td>\n",
       "    </tr>\n",
       "    <tr>\n",
       "      <th>1</th>\n",
       "      <td>937678</td>\n",
       "      <td>Tableau 2020 A-Z: Hands-On Tableau Training fo...</td>\n",
       "      <td>True</td>\n",
       "      <td>209070</td>\n",
       "      <td>4.58956</td>\n",
       "      <td>4.60015</td>\n",
       "      <td>4.60015</td>\n",
       "      <td>54581</td>\n",
       "      <td>78</td>\n",
       "      <td>0</td>\n",
       "      <td>2016-08-23 16:59:49+00:00</td>\n",
       "      <td>455.0</td>\n",
       "      <td>8640.0</td>\n",
       "      <td>2016</td>\n",
       "      <td>8</td>\n",
       "    </tr>\n",
       "  </tbody>\n",
       "</table>\n",
       "</div>"
      ],
      "text/plain": [
       "       id                                              title  is_paid  \\\n",
       "0  762616  The Complete SQL Bootcamp 2020: Go from Zero t...     True   \n",
       "1  937678  Tableau 2020 A-Z: Hands-On Tableau Training fo...     True   \n",
       "\n",
       "   num_subscribers  avg_rating  avg_rating_recent   rating  num_reviews  \\\n",
       "0           295509     4.66019            4.67874  4.67874        78006   \n",
       "1           209070     4.58956            4.60015  4.60015        54581   \n",
       "\n",
       "   num_published_lectures  num_published_practice_tests  \\\n",
       "0                      84                             0   \n",
       "1                      78                             0   \n",
       "\n",
       "             published_time  discount_price__amount  price_detail__amount  \\\n",
       "0 2016-04-06 05:16:11+00:00                   455.0                8640.0   \n",
       "1 2016-08-23 16:59:49+00:00                   455.0                8640.0   \n",
       "\n",
       "   year  month  \n",
       "0  2016      4  \n",
       "1  2016      8  "
      ]
     },
     "execution_count": 33,
     "metadata": {},
     "output_type": "execute_result"
    }
   ],
   "source": [
    "df.head(2)"
   ]
  },
  {
   "cell_type": "code",
   "execution_count": null,
   "id": "scheduled-sigma",
   "metadata": {
    "papermill": {
     "duration": 0.065017,
     "end_time": "2023-05-13T13:25:30.845761",
     "exception": false,
     "start_time": "2023-05-13T13:25:30.780744",
     "status": "completed"
    },
    "tags": []
   },
   "outputs": [],
   "source": []
  },
  {
   "cell_type": "code",
   "execution_count": null,
   "id": "tested-means",
   "metadata": {
    "papermill": {
     "duration": 0.06561,
     "end_time": "2023-05-13T13:25:30.976746",
     "exception": false,
     "start_time": "2023-05-13T13:25:30.911136",
     "status": "completed"
    },
    "tags": []
   },
   "outputs": [],
   "source": []
  },
  {
   "cell_type": "code",
   "execution_count": null,
   "id": "orange-gabriel",
   "metadata": {
    "papermill": {
     "duration": 0.064897,
     "end_time": "2023-05-13T13:25:31.107182",
     "exception": false,
     "start_time": "2023-05-13T13:25:31.042285",
     "status": "completed"
    },
    "tags": []
   },
   "outputs": [],
   "source": []
  },
  {
   "cell_type": "code",
   "execution_count": null,
   "id": "realistic-order",
   "metadata": {
    "papermill": {
     "duration": 0.065311,
     "end_time": "2023-05-13T13:25:31.238601",
     "exception": false,
     "start_time": "2023-05-13T13:25:31.173290",
     "status": "completed"
    },
    "tags": []
   },
   "outputs": [],
   "source": []
  },
  {
   "cell_type": "code",
   "execution_count": null,
   "id": "regulation-sauce",
   "metadata": {
    "papermill": {
     "duration": 0.064657,
     "end_time": "2023-05-13T13:25:31.369688",
     "exception": false,
     "start_time": "2023-05-13T13:25:31.305031",
     "status": "completed"
    },
    "tags": []
   },
   "outputs": [],
   "source": []
  },
  {
   "cell_type": "code",
   "execution_count": null,
   "id": "following-surface",
   "metadata": {
    "papermill": {
     "duration": 0.065237,
     "end_time": "2023-05-13T13:25:31.499981",
     "exception": false,
     "start_time": "2023-05-13T13:25:31.434744",
     "status": "completed"
    },
    "tags": []
   },
   "outputs": [],
   "source": []
  },
  {
   "cell_type": "code",
   "execution_count": null,
   "id": "increasing-coalition",
   "metadata": {
    "papermill": {
     "duration": 0.065599,
     "end_time": "2023-05-13T13:25:31.630286",
     "exception": false,
     "start_time": "2023-05-13T13:25:31.564687",
     "status": "completed"
    },
    "tags": []
   },
   "outputs": [],
   "source": []
  },
  {
   "cell_type": "code",
   "execution_count": null,
   "id": "controlled-comparison",
   "metadata": {
    "papermill": {
     "duration": 0.064011,
     "end_time": "2023-05-13T13:25:31.758866",
     "exception": false,
     "start_time": "2023-05-13T13:25:31.694855",
     "status": "completed"
    },
    "tags": []
   },
   "outputs": [],
   "source": []
  },
  {
   "cell_type": "code",
   "execution_count": null,
   "id": "measured-oliver",
   "metadata": {
    "papermill": {
     "duration": 0.064449,
     "end_time": "2023-05-13T13:25:31.888113",
     "exception": false,
     "start_time": "2023-05-13T13:25:31.823664",
     "status": "completed"
    },
    "tags": []
   },
   "outputs": [],
   "source": []
  },
  {
   "cell_type": "code",
   "execution_count": null,
   "id": "fancy-feeling",
   "metadata": {
    "papermill": {
     "duration": 0.064297,
     "end_time": "2023-05-13T13:25:32.016745",
     "exception": false,
     "start_time": "2023-05-13T13:25:31.952448",
     "status": "completed"
    },
    "tags": []
   },
   "outputs": [],
   "source": []
  },
  {
   "cell_type": "code",
   "execution_count": null,
   "id": "decreased-synthetic",
   "metadata": {
    "papermill": {
     "duration": 0.064139,
     "end_time": "2023-05-13T13:25:32.145374",
     "exception": false,
     "start_time": "2023-05-13T13:25:32.081235",
     "status": "completed"
    },
    "tags": []
   },
   "outputs": [],
   "source": []
  }
 ],
 "metadata": {
  "kernelspec": {
   "display_name": "Python 3",
   "language": "python",
   "name": "python3"
  },
  "language_info": {
   "codemirror_mode": {
    "name": "ipython",
    "version": 3
   },
   "file_extension": ".py",
   "mimetype": "text/x-python",
   "name": "python",
   "nbconvert_exporter": "python",
   "pygments_lexer": "ipython3",
   "version": "3.7.10"
  },
  "papermill": {
   "default_parameters": {},
   "duration": 23.70943,
   "end_time": "2023-05-13T13:25:33.020681",
   "environment_variables": {},
   "exception": null,
   "input_path": "__notebook__.ipynb",
   "output_path": "__notebook__.ipynb",
   "parameters": {},
   "start_time": "2023-05-13T13:25:09.311251",
   "version": "2.3.3"
  }
 },
 "nbformat": 4,
 "nbformat_minor": 5
}
